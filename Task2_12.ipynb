{
  "nbformat": 4,
  "nbformat_minor": 0,
  "metadata": {
    "colab": {
      "provenance": []
    },
    "kernelspec": {
      "name": "python3",
      "display_name": "Python 3"
    },
    "language_info": {
      "name": "python"
    }
  },
  "cells": [
    {
      "cell_type": "markdown",
      "source": [
        "#📌 Урок:Урок: Системы контроля версий (VCS)\n",
        "# 📖 Теоретический минимум\n",
        "## 🔹 Что такое система контроля версий?\n",
        "Система контроля версий (Version Control System, VCS) — это программное обеспечение для:\n",
        "\n",
        "Отслеживания изменений в коде\n",
        "\n",
        "Координации работы команды\n",
        "\n",
        "Возможности отката к предыдущим версиям\n",
        "\n",
        "Управления параллельными ветками разработки\n",
        "\n",
        "## 🔹 Основные понятия:\n",
        "\n",
        "Репозиторий - хранилище всех версий проекта\n",
        "\n",
        "Коммит - фиксация изменений с комментарием\n",
        "\n",
        "Ветка (branch) - изолированная линия разработки\n",
        "\n",
        "Слияние (merge) - объединение изменений из разных веток\n",
        "\n",
        "Конфликт - ситуации, когда изменения противоречат друг другу\n",
        "\n",
        "## 📖 Материалы\n",
        "\n",
        "https://vk.com/video-16108331_456253923\n",
        "\n",
        "https://git-scm.com/docs/gittutorial\n",
        "\n",
        "\n",
        "\n",
        "\n",
        "\n",
        "\n"
      ],
      "metadata": {
        "id": "65rym4wyexZA"
      }
    },
    {
      "cell_type": "markdown",
      "source": [
        "\n",
        "# 🏆 Задания\n",
        "\n",
        "На основе предыдущего урока давайте начнем вести систему контроля версий для разрабатываемого вами проекта\n",
        "\n",
        "\n",
        "## 1️⃣  Установка и настройка Git\n",
        "\n",
        "**Задача:**\n",
        "Установить Git и настроить пользователя\n",
        "Создайте gitignore файл для игнорирования кэшевых папок\n",
        "\n",
        "Подсказки по установке на линукс и макос\n",
        "\n",
        "```\n",
        "sudo apt-get install git  # Ubuntu/Debian\n",
        "brew install git         # macOS\n",
        "\n",
        "# Настройка пользователя\n",
        "git config --global user.name \"Ваше Имя\"\n",
        "git config --global user.email \"ваш.email@example.com\"\n",
        "```"
      ],
      "metadata": {
        "id": "vBGTQmKE3Qvu"
      }
    },
    {
      "cell_type": "code",
      "source": [],
      "metadata": {
        "id": "VpPDdWkb5m70"
      },
      "execution_count": null,
      "outputs": []
    },
    {
      "cell_type": "markdown",
      "source": [
        "\n",
        "## 2️⃣ Создание репозитория\n",
        "**Задача:**\n",
        "\n",
        " Инициализировать репозиторий для проекта моделирования\n",
        "\n",
        " Подсказки\n",
        "\n",
        " ```\n",
        " # Переход в папку проекта\n",
        "cd ~/reservoir_modeling\n",
        "\n",
        "# Инициализация репозитория\n",
        "git init\n",
        "\n",
        "# Проверка статуса\n",
        "git status\n",
        " ```\n",
        "\n"
      ],
      "metadata": {
        "id": "Z-Xjo7zMNlw3"
      }
    },
    {
      "cell_type": "code",
      "source": [],
      "metadata": {
        "id": "osMUJBMG56gD"
      },
      "execution_count": null,
      "outputs": []
    },
    {
      "cell_type": "markdown",
      "source": [
        "## 3️⃣  Первый коммит\n",
        "**Задача:**\n",
        "\n",
        "Внесите все свои файлы из предыдущего урока в первый комит\n",
        "\n",
        "---\n",
        "\n"
      ],
      "metadata": {
        "id": "aaGawtbzhqKl"
      }
    },
    {
      "cell_type": "code",
      "source": [],
      "metadata": {
        "id": "B6kZr5Ke6TTm"
      },
      "execution_count": null,
      "outputs": []
    },
    {
      "cell_type": "markdown",
      "source": [
        "\n",
        "## 4️⃣   Работа с ветками\n",
        "\n",
        "\n",
        "**Задача:**  \n",
        "\n",
        "Создать ветку для новой функции или реализации какого-то класса и слить изменения\n",
        "\n",
        "```\n",
        "# Создание ветки для IPR-модели\n",
        "git branch feature/ipr-models\n",
        "\n",
        "# Переключение на ветку\n",
        "git checkout feature/ipr-models\n",
        "\n",
        "# После внесения изменений...\n",
        "git add .\n",
        "git commit -m \"Добавлены базовые модели IPR\"\n",
        "\n",
        "# Возврат на основную ветку\n",
        "git checkout main\n",
        "\n",
        "# Слияние изменений\n",
        "git merge feature/ipr-models\n",
        "```\n",
        "\n",
        "---\n",
        "\n",
        "\n"
      ],
      "metadata": {
        "id": "UIWphjDSh8d0"
      }
    },
    {
      "cell_type": "code",
      "source": [],
      "metadata": {
        "id": "_XGzkK496v2V"
      },
      "execution_count": null,
      "outputs": []
    },
    {
      "cell_type": "markdown",
      "source": [
        "\n",
        "## 5️⃣ Работа с удаленным репозиторием (GitHub/GitLab)\n",
        "\n",
        "**Задача:**\n",
        "\n",
        "Настроить удаленный репозиторий и отправить изменения\n",
        "\n",
        "```\n",
        "# Добавление удаленного репозитория\n",
        "git remote add origin https://github.com/ваш-логин/reservoir_modeling.git\n",
        "\n",
        "# Отправка изменений\n",
        "git push -u origin main\n",
        "\n",
        "# Получение изменений с сервера\n",
        "git pull origin main\n",
        "```\n",
        "\n",
        "---\n"
      ],
      "metadata": {
        "id": "h5NaRCeji99S"
      }
    },
    {
      "cell_type": "code",
      "source": [],
      "metadata": {
        "id": "yxxiDun3LES8"
      },
      "execution_count": null,
      "outputs": []
    }
  ]
}